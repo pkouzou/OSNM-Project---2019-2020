{
 "cells": [
  {
   "cell_type": "markdown",
   "metadata": {},
   "source": [
    "<h1><em><center><span style=\"color:green\"> Happy new year!!!</span></center></em></h1>\n",
    "<img src=\"2020.jpg\"\n",
    "     alt=\"Markdown Monster icon\"\n",
    "     style=\"float: left; margin-right: 10px;\" />"
   ]
  },
  {
   "cell_type": "code",
   "execution_count": null,
   "metadata": {},
   "outputs": [],
   "source": [
    "import networkx as nx\n",
    "import node2vec as n2v\n",
    "from sklearn.metrics.pairwise import cosine_similarity\n",
    "import matplotlib.pyplot as plt\n",
    "import numpy as np\n",
    "from tqdm import tqdm\n",
    "from pandas import DataFrame\n",
    "import seaborn as sn\n",
    "import time\n",
    "import os"
   ]
  },
  {
   "cell_type": "code",
   "execution_count": null,
   "metadata": {},
   "outputs": [],
   "source": [
    "def create_embeddings(G, method, filename):\n",
    "    dictionary = dict({})\n",
    "    file = open(filename+\".txt\", \"w\")\n",
    "    \n",
    "    if method == \"DeepWalk\":\n",
    "        DeepWalk = Node2Vec(G, dimensions=64, walk_length=30, num_walks=200, p=1, q=1, workers=4)\n",
    "        model = DeepWalk.fit(window=10, min_count=1, batch_words=4)    \n",
    "        for idx, key in enumerate(model.wv.vocab):\n",
    "            dictionary[key] = model.wv[key]\n",
    "            file.write(str(key)+\"\\n\")\n",
    "            for e in model.wv[key]:\n",
    "                file.write(str(e)+\" \")\n",
    "            file.write(\"\\n\")\n",
    "            \n",
    "    elif method == \"node2vec\":\n",
    "        node2vec = Node2Vec(G, dimensions=64, walk_length=30, num_walks=200, p=2, q=1/2, workers=4)\n",
    "        model = node2vec.fit(window=10, min_count=1, batch_words=4)    \n",
    "        for idx, key in enumerate(model.wv.vocab):\n",
    "            dictionary[key] = model.wv[key]\n",
    "            file.write(str(key)+\"\\n\")\n",
    "            for e in model.wv[key]:\n",
    "                file.write(str(e)+\" \")\n",
    "            file.write(\"\\n\")\n",
    "    \n",
    "    elif method == \"VERSE\":\n",
    "        x = np.fromfile(\"embeddings.bin\", dtype=float)\n",
    "        a = np.frombuffer(x, dtype='<f4')\n",
    "        n = []\n",
    "        no = 0\n",
    "        for l in a:\n",
    "            n.append(l)\n",
    "            if len(n) == 64:\n",
    "                dictionary[str(no)] = n\n",
    "                file.write(str(no)+\"\\n\")\n",
    "                for e in dictionary[str(no)]:\n",
    "                    file.write(str(e)+\" \")\n",
    "                file.write(\"\\n\")\n",
    "                n = []\n",
    "                no += 1\n",
    "    elif method == \"GraRep\":\n",
    "        def create_edgelist():\n",
    "            with open(\"{}.edgelist\".format(graph_name), \"w\") as f:\n",
    "                for edge in G.edges():\n",
    "                    f.write(\"{}, {}\\n\".format(edge[0], edge[1]))\n",
    "        create_edgelist()       \n",
    "        output_filename = \"{}_grarep\".format(graph_name)\n",
    "        dimensions = 64\n",
    "        cmd = \"python3 GraRep/main.py --edge-path {}.edgelist --dimensions {} --output-path {}\".format(graph_name, dimensions, output_filename)\n",
    "        os.system(cmd)\n",
    "        print (cmd)\n",
    "        embeddings = {}\n",
    "        with open(output_filename, \"r\") as f:\n",
    "            f.readline()\n",
    "            for line in f:\n",
    "                line = line.split(\",\")\n",
    "                key = str(line[0]).split(\".\")[0]\n",
    "                embeddings[key] = np.array([eval(i) for i in line[1:]])\n",
    "        return embeddings\n",
    "        \n",
    "    file.close()  \n",
    "    return dictionary   "
   ]
  },
  {
   "cell_type": "markdown",
   "metadata": {},
   "source": [
    "Load 'facebook_combined' network"
   ]
  },
  {
   "cell_type": "code",
   "execution_count": null,
   "metadata": {},
   "outputs": [],
   "source": [
    "G = nx.read_edgelist('5_Real_Networks/facebook_combined.txt', create_using=nx.Graph(), nodetype=int)\n",
    "print(nx.is_connected(G))\n",
    "print(nx.number_connected_components(G))\n",
    "print(nx.info(G))\n",
    "edges = list(G.edges)\n",
    "file=open(\"facebook.edgelist\", \"w\")\n",
    "for edge in edges:\n",
    "    file.write(str(edge[0])+\" \"+str(edge[1])+\"\\n\")\n",
    "file.close()"
   ]
  },
  {
   "cell_type": "markdown",
   "metadata": {},
   "source": [
    "Create embeddings for 'facebook_combined' network"
   ]
  },
  {
   "cell_type": "code",
   "execution_count": null,
   "metadata": {},
   "outputs": [],
   "source": [
    "facebook_DeepWalk_embeddings = create_embeddings(G, \"DeepWalk\", \"facebook_DeepWalk_embeddings\")\n",
    "facebook_node2vec_embeddings = create_embeddings(G, \"node2vec\", \"facebook_node2vec_embeddings\")\n",
    "facebook_VERSE_embeddings = create_embeddings(G, \"VERSE\", \"facebook_VERSE_embeddings\")\n",
    "facebook_GraRep_embeddings = create_embeddings(G, \"GraRep\", \"facebook_GraRep_embeddings\")"
   ]
  },
  {
   "cell_type": "markdown",
   "metadata": {},
   "source": [
    "Load 'email-Eu-core' network"
   ]
  },
  {
   "cell_type": "code",
   "execution_count": null,
   "metadata": {},
   "outputs": [],
   "source": [
    "G = nx.read_edgelist('5_Real_Networks/email-Eu-core.txt', create_using=nx.Graph(), nodetype=int)\n",
    "G = max(nx.connected_component_subgraphs(G), key=len)\n",
    "print(nx.is_connected(G))\n",
    "print(nx.number_connected_components(G))\n",
    "print(nx.info(G))\n",
    "edges = list(G.edges)\n",
    "file=open(\"email.edgelist\", \"w\")\n",
    "for edge in edges:\n",
    "    file.write(str(edge[0])+\" \"+str(edge[1])+\"\\n\")\n",
    "file.close()"
   ]
  },
  {
   "cell_type": "markdown",
   "metadata": {},
   "source": [
    "Create embeddings for 'email-Eu-core' network"
   ]
  },
  {
   "cell_type": "code",
   "execution_count": null,
   "metadata": {},
   "outputs": [],
   "source": [
    "email_DeepWalk_embeddings = create_embeddings(G, \"DeepWalk\", \"email_DeepWalk_embeddings\")\n",
    "email_node2vec_embeddings = create_embeddings(G, \"node2vec\", \"email_node2vec_embeddings\")\n",
    "email_VERSE_embeddings = create_embeddings(G, \"VERSE\", \"email_VERSE_embeddings\")\n",
    "email_GraRep_embeddings = create_embeddings(G, \"GraRep\", \"email_GraRep_embeddings\")"
   ]
  },
  {
   "cell_type": "markdown",
   "metadata": {},
   "source": [
    "Load 'CA-GrQc' network"
   ]
  },
  {
   "cell_type": "code",
   "execution_count": null,
   "metadata": {},
   "outputs": [],
   "source": [
    "G = nx.read_edgelist('5_Real_Networks/CA-GrQc.txt', create_using=nx.Graph(), nodetype=int)\n",
    "G = max(nx.connected_component_subgraphs(G), key=len)\n",
    "print(nx.is_connected(G))\n",
    "print(nx.number_connected_components(G))\n",
    "print(nx.info(G))\n",
    "edges = list(G.edges)\n",
    "file=open(\"CA-GrQc.edgelist\", \"w\")\n",
    "for edge in edges:\n",
    "    file.write(str(edge[0])+\" \"+str(edge[1])+\"\\n\")\n",
    "file.close()"
   ]
  },
  {
   "cell_type": "markdown",
   "metadata": {},
   "source": [
    "Create embeddings for 'CA-GrQc' network"
   ]
  },
  {
   "cell_type": "code",
   "execution_count": null,
   "metadata": {},
   "outputs": [],
   "source": [
    "CA_GrQc_DeepWalk_embeddings = create_embeddings(G, \"DeepWalk\", \"CA_GrQc_DeepWalk_embeddings\")\n",
    "CA_GrQc_node2vec_embeddings = create_embeddings(G, \"node2vec\", \"CA_GrQc_node2vec_embeddings\")\n",
    "CA_GrQc_VERSE_embeddings = create_embeddings(G, \"VERSE\", \"CA_GrQc_VERSE_embeddings\")\n",
    "CA_GrQc_GraRep_embeddings = create_embeddings(G, \"GraRep\", \"CA_GrQc_GraRep_embeddings\")"
   ]
  },
  {
   "cell_type": "markdown",
   "metadata": {},
   "source": [
    "Load 'p2p-Gnutella06' network"
   ]
  },
  {
   "cell_type": "code",
   "execution_count": null,
   "metadata": {},
   "outputs": [],
   "source": [
    "G = nx.read_edgelist('5_Real_Networks/p2p-Gnutella06.txt', create_using=nx.Graph(), nodetype=int)\n",
    "print(nx.is_connected(G))\n",
    "print(nx.number_connected_components(G))\n",
    "print(nx.info(G))\n",
    "edges = list(G.edges)\n",
    "file=open(\"p2p-Gnutella06.edgelist\", \"w\")\n",
    "for edge in edges:\n",
    "    file.write(str(edge[0])+\" \"+str(edge[1])+\"\\n\")\n",
    "file.close()"
   ]
  },
  {
   "cell_type": "markdown",
   "metadata": {},
   "source": [
    "Create embeddings for 'p2p-Gnutella06' network"
   ]
  },
  {
   "cell_type": "code",
   "execution_count": null,
   "metadata": {},
   "outputs": [],
   "source": [
    "p2p_Gnutella06_DeepWalk_embeddings = create_embeddings(G, \"DeepWalk\", \"p2p_Gnutella06_DeepWalk_embeddings\")\n",
    "p2p_Gnutella06_node2vec_embeddings = create_embeddings(G, \"node2vec\", \"p2p_Gnutella06_node2vec_embeddings\")\n",
    "p2p_Gnutella06_VERSE_embeddings = create_embeddings(G, \"VERSE\", \"p2p_Gnutella06_VERSE_embeddings\")\n",
    "p2p_Gnutella06_GraRep_embeddings = create_embeddings(G, \"GraRep\", \"p2p_Gnutella06_GraRep_embeddings\")"
   ]
  },
  {
   "cell_type": "markdown",
   "metadata": {},
   "source": [
    "Load 'Wiki-Vote' network"
   ]
  },
  {
   "cell_type": "code",
   "execution_count": null,
   "metadata": {},
   "outputs": [],
   "source": [
    "G = nx.read_edgelist('5_Real_Networks/Wiki-Vote.txt', create_using=nx.Graph(), nodetype=int)\n",
    "G = max(nx.connected_component_subgraphs(G), key=len)\n",
    "print(nx.is_connected(G))\n",
    "print(nx.number_connected_components(G))\n",
    "print(nx.info(G))\n",
    "edges = list(G.edges)\n",
    "file=open(\"Wiki-Vote.edgelist\", \"w\")\n",
    "for edge in edges:\n",
    "    file.write(str(edge[0])+\" \"+str(edge[1])+\"\\n\")\n",
    "file.close()"
   ]
  },
  {
   "cell_type": "markdown",
   "metadata": {},
   "source": [
    "Create embeddings for 'Wiki-Vote' network"
   ]
  },
  {
   "cell_type": "code",
   "execution_count": null,
   "metadata": {},
   "outputs": [],
   "source": [
    "Wiki_Vote_DeepWalk_embeddings = create_embeddings(G, \"DeepWalk\", \"Wiki_Vote_DeepWalk_embeddings\")\n",
    "Wiki_Vote_node2vec_embeddings = create_embeddings(G, \"node2vec\", \"Wiki_Vote_node2vec_embeddings\")\n",
    "Wiki_Vote_VERSE_embeddings = create_embeddings(G, \"VERSE\", \"Wiki_Vote_VERSE_embeddings\")\n",
    "Wiki_Vote_GraRep_embeddings = create_embeddings(G, \"GraRep\", \"Wiki_Vote_GraRep_embeddings\")"
   ]
  },
  {
   "cell_type": "markdown",
   "metadata": {},
   "source": [
    "Create 10 'Preferential Attachment' networks"
   ]
  },
  {
   "cell_type": "code",
   "execution_count": null,
   "metadata": {},
   "outputs": [],
   "source": [
    "def write_edges(graph, path):\n",
    "    with open(path, \"w\") as f:\n",
    "        for edge in graph.edges():\n",
    "            f.write(\"{} {}\\n\".format(edge[0], edge[1]))\n",
    "\n",
    "number_of_nodes = 1005\n",
    "number_of_edges = 17000\n",
    "N = 10\n",
    "m = int(number_of_edges/number_of_nodes)\n",
    "\n",
    "for i in range(N):\n",
    "    G = nx.barabasi_albert_graph(number_of_nodes, m)\n",
    "    write_edges(G, \"Synthetic/PreferentialAttachment/preferential{}.edgelist\".format(i+1))\n",
    "    print (\"{}/{}\".format(i+1, N))"
   ]
  },
  {
   "cell_type": "markdown",
   "metadata": {},
   "source": [
    "Create embeddings for each of the 10 'Preferential Attachment' networks"
   ]
  },
  {
   "cell_type": "code",
   "execution_count": null,
   "metadata": {},
   "outputs": [],
   "source": [
    "for i in range(10):\n",
    "    preferential_attachment_DeepWalk_embeddings = create_embeddings(G, \"DeepWalk\", \"preferential_attachment_DeepWalk_embeddings\")\n",
    "    preferential_attachment_node2vec_embeddings = create_embeddings(G, \"node2vec\", \"preferential_attachment_node2vec_embeddings\")\n",
    "    preferential_attachment_VERSE_embeddings = create_embeddings(G, \"VERSE\", \"preferential_attachment_VERSE_embeddings\")\n",
    "    preferential_attachment_GraRep_embeddings = create_embeddings(G, \"GraRep\", \"preferential_attachment_GraRep_embeddings\")"
   ]
  },
  {
   "cell_type": "markdown",
   "metadata": {},
   "source": [
    "Create 10 random 'Erdős–Rényi' networks"
   ]
  },
  {
   "cell_type": "code",
   "execution_count": null,
   "metadata": {},
   "outputs": [],
   "source": [
    "import operator\n",
    "from functools import reduce\n",
    "import networkx as nx\n",
    "\n",
    "def ncr(n, r):\n",
    "    r = min(r, n-r)\n",
    "    numer = reduce(operator.mul, range(n, n-r, -1), 1)\n",
    "    denom = reduce(operator.mul, range(1, r+1), 1)\n",
    "    return numer / denom\n",
    "\n",
    "number_of_nodes = 1005\n",
    "number_of_edges = 17000\n",
    "N = 10\n",
    "p_erdos_renyi = number_of_edges/ncr(number_of_nodes, 2)\n",
    "\n",
    "for i in range(N):\n",
    "    G = nx.erdos_renyi_graph(number_of_nodes, p_erdos_renyi)\n",
    "    write_edges(G, \"Synthetic/Random/random{}.edgelist\".format(i+1))\n",
    "    print (\"{}/{}\".format(i+1, N))"
   ]
  },
  {
   "cell_type": "markdown",
   "metadata": {},
   "source": [
    "Create embeddings for each of the 10 'Erdős–Rényi' networks"
   ]
  },
  {
   "cell_type": "code",
   "execution_count": null,
   "metadata": {},
   "outputs": [],
   "source": [
    "for i in range(10):\n",
    "    erdos_renyi_DeepWalk_embeddings = create_embeddings(G, \"DeepWalk\", \"erdos_renyi_DeepWalk_embeddings\")\n",
    "    erdos_renyi_node2vec_embeddings = create_embeddings(G, \"node2vec\", \"erdos_renyi_node2vec_embeddings\")\n",
    "    erdos_renyi_VERSE_embeddings = create_embeddings(G, \"VERSE\", \"erdos_renyi_VERSE_embeddings\")\n",
    "    erdos_renyi_GraRep_embeddings = create_embeddings(G, \"GraRep\", \"erdos_renyi_GraRep_embeddings\")"
   ]
  },
  {
   "cell_type": "markdown",
   "metadata": {},
   "source": [
    "The following class holds all the information of a network (including embeddings and diversities). It also computes the structural diversity based on the number of connected components of a node"
   ]
  },
  {
   "cell_type": "code",
   "execution_count": null,
   "metadata": {},
   "outputs": [],
   "source": [
    "class Graph_:\n",
    "    def __init__(self, name):\n",
    "        print (\"----Loading: {}----\".format(name))\n",
    "        self.graph = nx.read_edgelist(\"Embeddings/{}/{}.edgelist\".format(name, name), delimiter=\" \",  create_using=nx.Graph)\n",
    "        self.graph, self.mapped_nodes = self.rename_nodes()\n",
    "        self.name = name\n",
    "        embedding_paths = [i for i in os.listdir(\"Embeddings/{}\".format(name)) if \"embeddings\" in i]\n",
    "        self.embeddings = {}\n",
    "        for path in embedding_paths:\n",
    "            if \"DeepWalk\" in path or \"node2vec\" in path or \"VERSE\" in path:\n",
    "                self.embeddings[path.split(\"_\")[-2]] = self.load_embeddings(path)\n",
    "            elif \"GraRep\" in path:\n",
    "                self.embeddings[\"GraRep\"] = self.load_grarep_embeddings()\n",
    "        self.node_metrics = self.get_node_metrics()\n",
    "        print (nx.info(self.graph) + \"\\n\")\n",
    "        \n",
    "    def load_embeddings(self, embedding_name):\n",
    "        emb = {}\n",
    "        with open(\"Embeddings/{}/{}\".format(self.name, embedding_name)) as f:\n",
    "            for line in f:\n",
    "                node = int(line.replace(\"\\n\", \"\"))\n",
    "                if \"VERSE\" not in embedding_name:\n",
    "                    node = self.mapped_nodes[node]\n",
    "                emb[node] = list(map(float, f.readline().split(' ')[:-1]))\n",
    "        return emb\n",
    "    \n",
    "    def load_grarep_embeddings(self):\n",
    "        emb = {}\n",
    "        with open(\"Embeddings/{}/{}_grarep\".format(self.name, self.name)) as f:\n",
    "            f.readline()\n",
    "            for line in f:\n",
    "                line = line.replace(\"\\n\", \"\").split(\",\")\n",
    "                node = int(float(line[0]))\n",
    "                emb[node] = [eval(i) for i in line[-64:]]\n",
    "        return emb\n",
    "   \n",
    "    def rename_nodes(self):\n",
    "        nodes = sorted([int(i) for i in self.graph.nodes()])\n",
    "        new = {}\n",
    "        for i in range(len(nodes)):\n",
    "            new[nodes[i]] = i\n",
    "        H = nx.Graph()\n",
    "        for edge in self.graph.edges():\n",
    "            e0, e1 = edge\n",
    "            H.add_edge(new[int(e0)], new[int(e1)])\n",
    "        return H, new\n",
    "    \n",
    "    def embedding_based_diversity(self, embedding_name):\n",
    "        print (\"Computing diversity for embeddings '{}'\".format(embedding_name))\n",
    "        embeddings = self.embeddings[embedding_name]\n",
    "        cosine_similarities = {}\n",
    "        def compute_node_diversity(node):\n",
    "            neighbors = list(self.graph.neighbors(node))\n",
    "            node_diversity = 0.0\n",
    "            for n in neighbors:\n",
    "                key = tuple(sorted([node, n]))\n",
    "                if key not in cosine_similarities:\n",
    "                    cosine_similarities[key] = (cosine_similarity([embeddings[node]], [embeddings[n]])[0][0])\n",
    "                node_diversity += 1 - cosine_similarities[key]\n",
    "                \n",
    "            node_diversity /= len(neighbors)\n",
    "            return node_diversity\n",
    "        node_diversities = {}\n",
    "        nodes = sorted(embeddings)\n",
    "        for i in tqdm(range(len(nodes))):\n",
    "            e = nodes[i]\n",
    "            node_diversities[e] = compute_node_diversity(e)\n",
    "        return self.convert_to_new_range(node_diversities)\n",
    "    \n",
    "    def create_correlation_matrix(self, node_diversities, cc_diversities):\n",
    "        div, cc_div, pr, deg = [], [], [], []\n",
    "        for n in node_diversities:\n",
    "            div.append(node_diversities[n])\n",
    "            cc_div.append(cc_diversities[n])\n",
    "            pr.append(self.node_metrics[\"pagerank\"][n])\n",
    "            deg.append(self.node_metrics[\"degree\"][n])\n",
    "        Data = {'diversity': div,\n",
    "                'cc_diversity': cc_div,\n",
    "                'pagerank': pr,\n",
    "                'degree': deg\n",
    "                }\n",
    "        df = DataFrame(Data, columns=['diversity', 'cc_diversity', 'pagerank', 'degree'])\n",
    "        corrMatrix = df.corr()\n",
    "        sn.heatmap(corrMatrix, annot=True)\n",
    "        plt.savefig(\"haha.jpg\")\n",
    "        plt.show() \n",
    "        \n",
    "    def connected_component_diversity(self, k=2):\n",
    "        print (\"Computing cc_diversity for k={}\".format(k))\n",
    "        diversities = {}\n",
    "        nodes = sorted(self.graph.nodes())\n",
    "        for i in tqdm(range(len(nodes))):\n",
    "            node = nodes[i]\n",
    "            neighbors = list(self.graph.neighbors(node))\n",
    "            H = self.graph.subgraph(neighbors)\n",
    "            diversities[node] = 0\n",
    "\n",
    "            for CC in list(nx.connected_components(H)):\n",
    "                if len(CC) >= k:\n",
    "                    diversities[node] += 1\n",
    "        values = list(diversities.values())\n",
    "        return diversities\n",
    "    \n",
    "    def get_node_metrics(self, set_of_metrics=[\"pagerank\", \"degree\", \"cluster_coefficient\"]):\n",
    "        metrics = {}\n",
    "        if \"pagerank\" in set_of_metrics: metrics[\"pagerank\"] = nx.pagerank(self.graph)\n",
    "        if \"cluster_coefficient\" in set_of_metrics: metrics[\"cluster_coefficient\"] = nx.clustering(self.graph)\n",
    "        if \"degree\" in set_of_metrics: \n",
    "            metrics[\"degree\"] = {}\n",
    "            for node in self.graph.nodes():\n",
    "                metrics[\"degree\"][node] = self.graph.degree(node)\n",
    "        return metrics\n",
    "    \n",
    "    def convert_to_new_range(self, diversities):\n",
    "        values = list(diversities.values())\n",
    "        OldMin, OldMax = min(values), max(values)\n",
    "        NewMin, NewMax = 0.0, 1.0\n",
    "        converted_diversities = {}\n",
    "        for key in diversities:\n",
    "            converted_diversities[key] = (((diversities[key] - OldMin) * (NewMax - NewMin)) / (OldMax - OldMin)) + NewMin\n",
    "        return converted_diversities"
   ]
  },
  {
   "cell_type": "markdown",
   "metadata": {},
   "source": [
    "For each network compute node diversities based on the embeddings of its neighbors"
   ]
  },
  {
   "cell_type": "code",
   "execution_count": null,
   "metadata": {},
   "outputs": [],
   "source": [
    "embedding_algorithms = [\"DeepWalk\", \"node2vec\", \"VERSE\", \"GraRep\"]\n",
    "start_time = time.time()\n",
    "\n",
    "for g in os.listdir(\"Embeddings\"):\n",
    "    g = Graph_(g)\n",
    "\n",
    "    all_info = {\"node_diversities\": {}, \"cc_diversities\": {}, \"node_metrics\": g.node_metrics}\n",
    "\n",
    "    for emb_alg in embedding_algorithms:\n",
    "        all_info[\"node_diversities\"][emb_alg] =  g.embedding_based_diversity(emb_alg)\n",
    "\n",
    "    for k in range(1, 4):\n",
    "        all_info[\"cc_diversities\"][k] = g.connected_component_diversity(k=k)\n",
    "\n",
    "    print (\"Writing results to file...\")\n",
    "\n",
    "    with open(\"Diversities/{}_diversities.txt\".format(g.name), \"w\") as f:\n",
    "        f.write(str(all_info) + \"\\n\")\n",
    "\n",
    "print (time.time() - start_time)"
   ]
  },
  {
   "cell_type": "markdown",
   "metadata": {},
   "source": [
    "Load the computed diversities"
   ]
  },
  {
   "cell_type": "code",
   "execution_count": null,
   "metadata": {},
   "outputs": [],
   "source": [
    "data = {}\n",
    "for path in os.listdir(\"Diversities\"):\n",
    "    with open(\"Diversities/{}\".format(path)) as f:\n",
    "        data[\"_\".join(path.split(\"_\")[:-1])] = eval(f.readline())\n",
    "        print(\"_\".join(path.split(\"_\")[:-1]))"
   ]
  },
  {
   "cell_type": "markdown",
   "metadata": {},
   "source": [
    "A function that computes the correlation between our embedded-based diversity and other metrics of the network (degree, pagerank, cluster coefficient and structural diversity)"
   ]
  },
  {
   "cell_type": "code",
   "execution_count": null,
   "metadata": {},
   "outputs": [],
   "source": [
    "def create_correlation_matrix(node_diversities, cc_diversities, node_metrics):\n",
    "        div, cc_div, pr, deg, cc = [], [], [], [], []\n",
    "        for n in node_diversities:\n",
    "            div.append(node_diversities[n])\n",
    "            cc_div.append(cc_diversities[n])\n",
    "            pr.append(node_metrics[\"pagerank\"][n])\n",
    "            deg.append(node_metrics[\"degree\"][n])\n",
    "            cc.append(node_metrics[\"cluster_coefficient\"][n])\n",
    "            \n",
    "        Data = {'diversity': div,\n",
    "                'cc_diversity': cc_div,\n",
    "                'pagerank': pr,\n",
    "                'degree': deg,\n",
    "                'c_coef': cc\n",
    "                }\n",
    "        df = DataFrame(Data, columns=['diversity', 'cc_diversity', 'pagerank', 'degree', 'c_coef'])\n",
    "        corrMatrix = df.corr()\n",
    "        return corrMatrix"
   ]
  },
  {
   "cell_type": "markdown",
   "metadata": {},
   "source": [
    "Compute and write into files the correlation of our embedded-based diversity with the rest of the network metrics. For the cases of 'Erdős–Rényi' and 'Preferential Attachment' the average correlation matrix is computed"
   ]
  },
  {
   "cell_type": "code",
   "execution_count": null,
   "metadata": {},
   "outputs": [],
   "source": [
    "name = \"Facebok\"\n",
    "emb = \"VERSE\"\n",
    "\n",
    "f = open(\"diversities_{}.txt\".format(emb), \"w\")\n",
    "\n",
    "for name in sorted(data):\n",
    "    if \"Random\" in name or \"Preferential\" in name:\n",
    "        continue\n",
    "    node_diversities = data[name][\"node_diversities\"][emb]\n",
    "    cc_diversities = data[name][\"cc_diversities\"][2]\n",
    "    node_metrics = data[name][\"node_metrics\"]\n",
    "    corrMatrix = create_correlation_matrix(node_diversities, cc_diversities, node_metrics)\n",
    "    \n",
    "    cc = round(corrMatrix[\"diversity\"][\"cc_diversity\"], 4)\n",
    "    deg = round(corrMatrix[\"diversity\"][\"degree\"], 4)\n",
    "    pr = round(corrMatrix[\"diversity\"][\"pagerank\"], 4)\n",
    "    clc = round(corrMatrix[\"diversity\"][\"c_coef\"], 4)\n",
    "    f.write(name + \"\\n\")\n",
    "    f.write(\"{} {} {} {}\\n\".format(cc, deg, pr, clc))\n",
    "\n",
    "m = {}\n",
    "for name in sorted(data):\n",
    "    \n",
    "    if not \"Random\" in name and \"Preferential\" not in name:\n",
    "        continue\n",
    "        \n",
    "    if \"Random\" in name:\n",
    "        key = \"Random\"\n",
    "        \n",
    "    if \"Preferential\" in name:\n",
    "        key = \"Preferential\"\n",
    "        \n",
    "    if name not in m:\n",
    "        m[key] = {\"cc_diversity\": 0, \"degree\": 0, \"pagerank\": 0, \"c_coef\": 0}\n",
    "        \n",
    "    node_diversities = data[name][\"node_diversities\"][emb]\n",
    "    cc_diversities = data[name][\"cc_diversities\"][2]\n",
    "    node_metrics = data[name][\"node_metrics\"]\n",
    "    corrMatrix = create_correlation_matrix(node_diversities, cc_diversities, node_metrics)\n",
    "    cc = round(corrMatrix[\"diversity\"][\"cc_diversity\"], 4)\n",
    "    deg = round(corrMatrix[\"diversity\"][\"degree\"], 4)\n",
    "    pr = round(corrMatrix[\"diversity\"][\"pagerank\"], 4)\n",
    "    clc = round(corrMatrix[\"diversity\"][\"c_coef\"], 4)\n",
    "    m[key][\"cc_diversity\"] += cc\n",
    "    m[key][\"degree\"] += deg\n",
    "    m[key][\"pagerank\"] += pr\n",
    "    m[key][\"c_coef\"] += clc\n",
    "    \n",
    "for name in m:\n",
    "    s = \"\"\n",
    "    for d in [\"cc_diversity\", \"degree\", \"pagerank\", \"c_coef\"]:\n",
    "        m[name][d] /= 10\n",
    "        m[name][d] = round(m[name][d], 4)\n",
    "        s += str(m[name][d]) + \" \"\n",
    "    f.write(name + \"\\n\")\n",
    "    f.write(s + \"\\n\")    \n",
    "f.close()"
   ]
  }
 ],
 "metadata": {
  "kernelspec": {
   "display_name": "Python 3",
   "language": "python",
   "name": "python3"
  },
  "language_info": {
   "codemirror_mode": {
    "name": "ipython",
    "version": 3
   },
   "file_extension": ".py",
   "mimetype": "text/x-python",
   "name": "python",
   "nbconvert_exporter": "python",
   "pygments_lexer": "ipython3",
   "version": "3.7.3"
  }
 },
 "nbformat": 4,
 "nbformat_minor": 2
}
